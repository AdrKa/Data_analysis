{
 "cells": [
  {
   "cell_type": "code",
   "execution_count": 95,
   "metadata": {},
   "outputs": [],
   "source": [
    "import pandas as pd\n",
    "import numpy as np\n",
    "import matplotlib.pyplot as plt\n",
    "\n",
    "from sklearn.tree import DecisionTreeRegressor \n",
    "np.random.seed(0)\n",
    "\n",
    "\n",
    "from tqdm import tqdm\n",
    "from scikitplot.estimators import plot_learning_curve\n",
    "from sklearn.model_selection import cross_val_score, KFold\n",
    "from sklearn.externals import joblib\n",
    "from eli5.xgboost import explain_weights_xgboost\n",
    "from sklearn.model_selection import train_test_split\n",
    "\n",
    "\n",
    "import xgboost as xgb\n",
    "from ml_metrics import rmsle"
   ]
  },
  {
   "cell_type": "code",
   "execution_count": 96,
   "metadata": {},
   "outputs": [
    {
     "name": "stdout",
     "output_type": "stream",
     "text": [
      "[WinError 3] System nie może odnaleźć określonej ścieżki: 'Desktop\\\\nieruchomosci'\n",
      "C:\\Users\\adria\\Desktop\\nieruchomosci\n"
     ]
    }
   ],
   "source": [
    "cd Desktop\\nieruchomosci"
   ]
  },
  {
   "cell_type": "code",
   "execution_count": 97,
   "metadata": {},
   "outputs": [
    {
     "data": {
      "text/plain": [
       "(70488, 20)"
      ]
     },
     "execution_count": 97,
     "metadata": {},
     "output_type": "execute_result"
    }
   ],
   "source": [
    "\n",
    "test = pd.read_csv('test.csv')\n",
    "train = pd.read_csv('train.csv')\n",
    "\n",
    "train.shape"
   ]
  },
  {
   "cell_type": "code",
   "execution_count": 98,
   "metadata": {},
   "outputs": [],
   "source": [
    "df = pd.concat([train,test])\n"
   ]
  },
  {
   "cell_type": "code",
   "execution_count": 99,
   "metadata": {},
   "outputs": [
    {
     "data": {
      "text/plain": [
       "Unnamed: 0               int64\n",
       "numer_oferty             int64\n",
       "kiedy_dodano            object\n",
       "kiedy_aktualizowano     object\n",
       "typ_oferty              object\n",
       "lokalizacja             object\n",
       "cena                   float64\n",
       "liczba_pokoi            object\n",
       "pietro                  object\n",
       "ogrzewanie              object\n",
       "rodzaj_zabudowy         object\n",
       "material_budynku        object\n",
       "stan_wykonczenia        object\n",
       "powierzchnia           float64\n",
       "link_ogloszenia         object\n",
       "okna                    object\n",
       "dostepne_od             object\n",
       "id_oferty               object\n",
       "miasto                  object\n",
       "wojewodztwo             object\n",
       "dtype: object"
      ]
     },
     "execution_count": 99,
     "metadata": {},
     "output_type": "execute_result"
    }
   ],
   "source": [
    "df.dtypes"
   ]
  },
  {
   "cell_type": "code",
   "execution_count": null,
   "metadata": {},
   "outputs": [],
   "source": [
    "\n",
    "\n"
   ]
  },
  {
   "cell_type": "code",
   "execution_count": null,
   "metadata": {},
   "outputs": [],
   "source": []
  },
  {
   "cell_type": "code",
   "execution_count": 100,
   "metadata": {},
   "outputs": [
    {
     "name": "stdout",
     "output_type": "stream",
     "text": [
      "Error: liczba_pokoi\n",
      "Error: pietro\n"
     ]
    }
   ],
   "source": [
    "\n",
    "num_feat = ['liczba_pokoi','pietro','powierzchnia','cena']\n",
    "\n",
    "## Convert string to numbers\n",
    "\n",
    "for feat in num_feat:\n",
    "    try:\n",
    "        df[feat] = df[feat].astype(np.int)\n",
    "    except:\n",
    "        try:\n",
    "            \n",
    "            df[feat] = df[feat].astype(np.float)\n",
    "        except: \n",
    "            print(\"Error:\", feat)\n"
   ]
  },
  {
   "cell_type": "code",
   "execution_count": 101,
   "metadata": {},
   "outputs": [
    {
     "data": {
      "text/plain": [
       " 1           19442\n",
       " parter      15992\n",
       " 2           15265\n",
       " 3           13794\n",
       " 4            9543\n",
       " 5            3577\n",
       " 6            2170\n",
       " 7            1547\n",
       " 8            1096\n",
       " &gt; 10      1040\n",
       " 10            910\n",
       " 9             866\n",
       " poddasze      100\n",
       " suterena       44\n",
       "Name: pietro, dtype: int64"
      ]
     },
     "execution_count": 101,
     "metadata": {},
     "output_type": "execute_result"
    }
   ],
   "source": [
    "df['pietro'].value_counts()"
   ]
  },
  {
   "cell_type": "code",
   "execution_count": 102,
   "metadata": {},
   "outputs": [
    {
     "data": {
      "text/html": [
       "<div>\n",
       "<style scoped>\n",
       "    .dataframe tbody tr th:only-of-type {\n",
       "        vertical-align: middle;\n",
       "    }\n",
       "\n",
       "    .dataframe tbody tr th {\n",
       "        vertical-align: top;\n",
       "    }\n",
       "\n",
       "    .dataframe thead th {\n",
       "        text-align: right;\n",
       "    }\n",
       "</style>\n",
       "<table border=\"1\" class=\"dataframe\">\n",
       "  <thead>\n",
       "    <tr style=\"text-align: right;\">\n",
       "      <th></th>\n",
       "      <th>liczba_pokoi</th>\n",
       "      <th>pietro</th>\n",
       "      <th>powierzchnia</th>\n",
       "      <th>cena</th>\n",
       "    </tr>\n",
       "  </thead>\n",
       "  <tbody>\n",
       "    <tr>\n",
       "      <th>0</th>\n",
       "      <td>5</td>\n",
       "      <td>1.0</td>\n",
       "      <td>84</td>\n",
       "      <td>690000.0</td>\n",
       "    </tr>\n",
       "    <tr>\n",
       "      <th>1</th>\n",
       "      <td>2</td>\n",
       "      <td>0.0</td>\n",
       "      <td>45</td>\n",
       "      <td>380000.0</td>\n",
       "    </tr>\n",
       "    <tr>\n",
       "      <th>2</th>\n",
       "      <td>2</td>\n",
       "      <td>1.0</td>\n",
       "      <td>36</td>\n",
       "      <td>259000.0</td>\n",
       "    </tr>\n",
       "    <tr>\n",
       "      <th>3</th>\n",
       "      <td>3</td>\n",
       "      <td>0.0</td>\n",
       "      <td>73</td>\n",
       "      <td>598600.0</td>\n",
       "    </tr>\n",
       "    <tr>\n",
       "      <th>4</th>\n",
       "      <td>2</td>\n",
       "      <td>4.0</td>\n",
       "      <td>41</td>\n",
       "      <td>500000.0</td>\n",
       "    </tr>\n",
       "    <tr>\n",
       "      <th>...</th>\n",
       "      <td>...</td>\n",
       "      <td>...</td>\n",
       "      <td>...</td>\n",
       "      <td>...</td>\n",
       "    </tr>\n",
       "    <tr>\n",
       "      <th>17616</th>\n",
       "      <td>1</td>\n",
       "      <td>6.0</td>\n",
       "      <td>26</td>\n",
       "      <td>NaN</td>\n",
       "    </tr>\n",
       "    <tr>\n",
       "      <th>17617</th>\n",
       "      <td>4</td>\n",
       "      <td>0.0</td>\n",
       "      <td>85</td>\n",
       "      <td>NaN</td>\n",
       "    </tr>\n",
       "    <tr>\n",
       "      <th>17618</th>\n",
       "      <td>2</td>\n",
       "      <td>3.0</td>\n",
       "      <td>48</td>\n",
       "      <td>NaN</td>\n",
       "    </tr>\n",
       "    <tr>\n",
       "      <th>17619</th>\n",
       "      <td>4</td>\n",
       "      <td>0.0</td>\n",
       "      <td>69</td>\n",
       "      <td>NaN</td>\n",
       "    </tr>\n",
       "    <tr>\n",
       "      <th>17620</th>\n",
       "      <td>3</td>\n",
       "      <td>2.0</td>\n",
       "      <td>52</td>\n",
       "      <td>NaN</td>\n",
       "    </tr>\n",
       "  </tbody>\n",
       "</table>\n",
       "<p>88109 rows × 4 columns</p>\n",
       "</div>"
      ],
      "text/plain": [
       "       liczba_pokoi  pietro  powierzchnia      cena\n",
       "0                 5     1.0            84  690000.0\n",
       "1                 2     0.0            45  380000.0\n",
       "2                 2     1.0            36  259000.0\n",
       "3                 3     0.0            73  598600.0\n",
       "4                 2     4.0            41  500000.0\n",
       "...             ...     ...           ...       ...\n",
       "17616             1     6.0            26       NaN\n",
       "17617             4     0.0            85       NaN\n",
       "17618             2     3.0            48       NaN\n",
       "17619             4     0.0            69       NaN\n",
       "17620             3     2.0            52       NaN\n",
       "\n",
       "[88109 rows x 4 columns]"
      ]
     },
     "execution_count": 102,
     "metadata": {},
     "output_type": "execute_result"
    }
   ],
   "source": [
    "df['liczba_pokoi'] = df['liczba_pokoi'].str.strip().str.replace('więcej niż 10',\"11\").astype(np.int)\n",
    "df['pietro'] = df['pietro'].str.replace('&gt; ','').str.replace('parter','0').str.replace('poddasze','11').str.replace('suterena','12').astype(np.float)\n",
    "\n",
    "\n",
    "floor_dict = {\n",
    "    'poddasze': 11,\n",
    "    'suterena': 12,\n",
    "    'więcej niż 10': 11\n",
    "}\n",
    "\n",
    "\n",
    "\n",
    "df[num_feat]"
   ]
  },
  {
   "cell_type": "code",
   "execution_count": 103,
   "metadata": {},
   "outputs": [],
   "source": [
    "## Label encoding\n",
    "black_list = ['lokalizacja','numer_oferty','link_ogloszenia','id_oferty']\n",
    "cat_feat = ['kiedy_dodano','kiedy_aktualizowano','typ_oferty','ogrzewanie','rodzaj_zabudowy','material_budynku','stan_wykonczenia','okna','dostepne_od','miasto','wojewodztwo']\n",
    "\n",
    "\n",
    "for feat in cat_feat:\n",
    "    new_name = '{}_cat'.format(feat.lower().replace(' ','_').replace(':',\"\"))\n",
    "    df[new_name] = df[feat].factorize()[0] "
   ]
  },
  {
   "cell_type": "code",
   "execution_count": 104,
   "metadata": {},
   "outputs": [
    {
     "name": "stdout",
     "output_type": "stream",
     "text": [
      "Index(['Unnamed: 0', 'numer_oferty', 'cena', 'liczba_pokoi', 'pietro',\n",
      "       'powierzchnia', 'kiedy_dodano_cat', 'kiedy_aktualizowano_cat',\n",
      "       'typ_oferty_cat', 'ogrzewanie_cat', 'rodzaj_zabudowy_cat',\n",
      "       'material_budynku_cat', 'stan_wykonczenia_cat', 'okna_cat',\n",
      "       'dostepne_od_cat', 'miasto_cat', 'wojewodztwo_cat'],\n",
      "      dtype='object')\n"
     ]
    },
    {
     "data": {
      "text/plain": [
       "['liczba_pokoi',\n",
       " 'pietro',\n",
       " 'powierzchnia',\n",
       " 'kiedy_dodano_cat',\n",
       " 'kiedy_aktualizowano_cat',\n",
       " 'typ_oferty_cat',\n",
       " 'ogrzewanie_cat',\n",
       " 'rodzaj_zabudowy_cat',\n",
       " 'material_budynku_cat',\n",
       " 'stan_wykonczenia_cat',\n",
       " 'okna_cat',\n",
       " 'dostepne_od_cat',\n",
       " 'miasto_cat',\n",
       " 'wojewodztwo_cat']"
      ]
     },
     "execution_count": 104,
     "metadata": {},
     "output_type": "execute_result"
    }
   ],
   "source": [
    "## selecting features\n",
    "\n",
    "select_feat = df.select_dtypes(include = np.number).columns\n",
    "\n",
    "print(select_feat)\n",
    "\n",
    "remove = ['numer_oferty','cena/metr','cena','Unnamed: 0']\n",
    "\n",
    "select_feat = [feat for feat in select_feat if feat not in  remove]\n",
    "select_feat"
   ]
  },
  {
   "cell_type": "code",
   "execution_count": 105,
   "metadata": {},
   "outputs": [],
   "source": [
    "df_train = df[select_feat].iloc[:70487,]\n",
    "df_test =  df[select_feat].iloc[70487:,]\n",
    "\n",
    "X_train = df_train.values\n",
    "X_test = df_test.values\n",
    "y_train = df.loc[:70486,'cena'].values\n",
    "\n"
   ]
  },
  {
   "cell_type": "code",
   "execution_count": 106,
   "metadata": {},
   "outputs": [
    {
     "data": {
      "text/plain": [
       "array([0.1760567 , 0.19343971, 0.19709829, 0.13213411, 0.16006768])"
      ]
     },
     "execution_count": 106,
     "metadata": {},
     "output_type": "execute_result"
    }
   ],
   "source": [
    "## Train model\n",
    "\n",
    "model = xgb.XGBRegressor(max_depth=8, n_estimators = 100)\n",
    "model.fit(X_train,y_train)\n",
    "joblib.dump(model, \"model.joblib.dat\")\n",
    "loaded_model = joblib.load(\"model.joblib.dat\")\n",
    "\n",
    "def custom_rmsle(model,X_test,y_test):\n",
    "    y_pred = loaded_model.predict(X_test) ## why does not the model want to work ?\n",
    "    y_pred[y_pred < 0] = 0\n",
    "    return rmsle (y_pred,y_test )\n",
    "\n",
    "## Cross validation\n",
    "\n",
    "cross_val_score(model,X_train,y_train, cv = 5, scoring = custom_rmsle) \n"
   ]
  },
  {
   "cell_type": "code",
   "execution_count": 107,
   "metadata": {},
   "outputs": [
    {
     "data": {
      "text/plain": [
       "<matplotlib.axes._subplots.AxesSubplot at 0x1cc17fb4208>"
      ]
     },
     "execution_count": 107,
     "metadata": {},
     "output_type": "execute_result"
    },
    {
     "data": {
      "image/png": "[encoded data removed]",
      "text/plain": [
       "<Figure size 1296x504 with 1 Axes>"
      ]
     },
     "metadata": {
      "needs_background": "light"
     },
     "output_type": "display_data"
    }
   ],
   "source": [
    "##learning curve\n",
    "\n",
    "model = xgb.XGBRegressor( **{'max_depth':8, 'n_estimators':100})\n",
    "plot_learning_curve(model,X_train,y_train, cv = 5,scoring = custom_rmsle, figsize = (18,7))\n"
   ]
  },
  {
   "cell_type": "code",
   "execution_count": 108,
   "metadata": {},
   "outputs": [
    {
     "data": {
      "text/plain": [
       "<matplotlib.axes._subplots.AxesSubplot at 0x1cc17f91bc8>"
      ]
     },
     "execution_count": 108,
     "metadata": {},
     "output_type": "execute_result"
    },
    {
     "data": {
      "image/png": "[encoded data removed]",
      "text/plain": [
       "<Figure size 1296x504 with 1 Axes>"
      ]
     },
     "metadata": {
      "needs_background": "light"
     },
     "output_type": "display_data"
    }
   ],
   "source": [
    "xgb_params = {'max_depth':10, 'n_estimators':200, 'seed':0,'subsample':0.8}\n",
    "\n",
    "model = xgb.XGBRegressor( **xgb_params )\n",
    "plot_learning_curve(model,X_train,y_train, cv = 5,scoring = custom_rmsle, figsize = (18,7))"
   ]
  },
  {
   "cell_type": "code",
   "execution_count": 114,
   "metadata": {},
   "outputs": [
    {
     "name": "stdout",
     "output_type": "stream",
     "text": [
      "[0.04612888 0.05525292 0.17953128 0.04228528 0.01724964 0.01793614\n",
      " 0.01997462 0.06715591 0.0234274  0.02727536 0.03008489 0.07546719\n",
      " 0.03410011 0.36413044]\n"
     ]
    }
   ],
   "source": [
    "## Weight of features\n",
    "from eli5 import show_weights\n",
    "model = xgb.XGBRegressor( **xgb_params )\n",
    "model.fit(X_train,y_train)\n",
    "print(model.feature_importances_)\n",
    "#explain_weights_xgboost(model,feature_names =select_feat, importance_type ='gain', top = 3 )"
   ]
  },
  {
   "cell_type": "code",
   "execution_count": 135,
   "metadata": {
    "scrolled": true
   },
   "outputs": [
    {
     "data": {
      "text/html": [
       "<div>\n",
       "<style scoped>\n",
       "    .dataframe tbody tr th:only-of-type {\n",
       "        vertical-align: middle;\n",
       "    }\n",
       "\n",
       "    .dataframe tbody tr th {\n",
       "        vertical-align: top;\n",
       "    }\n",
       "\n",
       "    .dataframe thead th {\n",
       "        text-align: right;\n",
       "    }\n",
       "</style>\n",
       "<table border=\"1\" class=\"dataframe\">\n",
       "  <thead>\n",
       "    <tr style=\"text-align: right;\">\n",
       "      <th></th>\n",
       "      <th>name</th>\n",
       "      <th>importance</th>\n",
       "    </tr>\n",
       "  </thead>\n",
       "  <tbody>\n",
       "    <tr>\n",
       "      <th>13</th>\n",
       "      <td>wojewodztwo</td>\n",
       "      <td>0.364130</td>\n",
       "    </tr>\n",
       "    <tr>\n",
       "      <th>2</th>\n",
       "      <td>powierzchnia</td>\n",
       "      <td>0.179531</td>\n",
       "    </tr>\n",
       "    <tr>\n",
       "      <th>11</th>\n",
       "      <td>dostepne_od</td>\n",
       "      <td>0.075467</td>\n",
       "    </tr>\n",
       "    <tr>\n",
       "      <th>7</th>\n",
       "      <td>rodzaj_zabudowy</td>\n",
       "      <td>0.067156</td>\n",
       "    </tr>\n",
       "    <tr>\n",
       "      <th>1</th>\n",
       "      <td>pietro</td>\n",
       "      <td>0.055253</td>\n",
       "    </tr>\n",
       "    <tr>\n",
       "      <th>0</th>\n",
       "      <td>liczba_pokoi</td>\n",
       "      <td>0.046129</td>\n",
       "    </tr>\n",
       "    <tr>\n",
       "      <th>3</th>\n",
       "      <td>kiedy_dodano</td>\n",
       "      <td>0.042285</td>\n",
       "    </tr>\n",
       "    <tr>\n",
       "      <th>12</th>\n",
       "      <td>miasto</td>\n",
       "      <td>0.034100</td>\n",
       "    </tr>\n",
       "    <tr>\n",
       "      <th>10</th>\n",
       "      <td>okna</td>\n",
       "      <td>0.030085</td>\n",
       "    </tr>\n",
       "    <tr>\n",
       "      <th>9</th>\n",
       "      <td>stan_wykonczenia</td>\n",
       "      <td>0.027275</td>\n",
       "    </tr>\n",
       "    <tr>\n",
       "      <th>8</th>\n",
       "      <td>material_budynku</td>\n",
       "      <td>0.023427</td>\n",
       "    </tr>\n",
       "    <tr>\n",
       "      <th>6</th>\n",
       "      <td>ogrzewanie</td>\n",
       "      <td>0.019975</td>\n",
       "    </tr>\n",
       "    <tr>\n",
       "      <th>5</th>\n",
       "      <td>typ_oferty</td>\n",
       "      <td>0.017936</td>\n",
       "    </tr>\n",
       "    <tr>\n",
       "      <th>4</th>\n",
       "      <td>kiedy_aktualizowano</td>\n",
       "      <td>0.017250</td>\n",
       "    </tr>\n",
       "  </tbody>\n",
       "</table>\n",
       "</div>"
      ],
      "text/plain": [
       "                   name  importance\n",
       "13          wojewodztwo    0.364130\n",
       "2          powierzchnia    0.179531\n",
       "11          dostepne_od    0.075467\n",
       "7       rodzaj_zabudowy    0.067156\n",
       "1                pietro    0.055253\n",
       "0          liczba_pokoi    0.046129\n",
       "3          kiedy_dodano    0.042285\n",
       "12               miasto    0.034100\n",
       "10                 okna    0.030085\n",
       "9      stan_wykonczenia    0.027275\n",
       "8      material_budynku    0.023427\n",
       "6            ogrzewanie    0.019975\n",
       "5            typ_oferty    0.017936\n",
       "4   kiedy_aktualizowano    0.017250"
      ]
     },
     "execution_count": 135,
     "metadata": {},
     "output_type": "execute_result"
    }
   ],
   "source": [
    "\n",
    "## Weight of features\n",
    "columns = df_train.columns\n",
    "importance = model.feature_importances_\n",
    "\n",
    "frame = pd.DataFrame({'name':columns,'importance':importance})\n",
    "frame.sort_values(by=['importance'],ascending = False, inplace = True)\n",
    "frame.name = frame.name.str.replace('_cat',\"\")\n",
    "frame"
   ]
  },
  {
   "cell_type": "code",
   "execution_count": null,
   "metadata": {},
   "outputs": [],
   "source": []
  },
  {
   "cell_type": "code",
   "execution_count": 79,
   "metadata": {},
   "outputs": [
    {
     "data": {
      "text/plain": [
       "[inf, inf, inf]"
      ]
     },
     "execution_count": 79,
     "metadata": {},
     "output_type": "execute_result"
    }
   ],
   "source": [
    "def run_cv(X,y,model_class,model_params={},cv=3):\n",
    "    \n",
    "    cv = KFold(n_splits = cv)\n",
    "    \n",
    "    scores = []\n",
    "    for train_id, test_id in cv.split(X):\n",
    "        X_local_train, X_local_test = X[train_id], X[test_id]\n",
    "        y_local_train, y_local_test = y[train_id], y[test_id]\n",
    "        \n",
    "        y_log_local_train = np.log(y_local_train)\n",
    "        \n",
    "        model = model_class(**model_params)\n",
    "        model.fit(X_local_train,y_local_train)\n",
    "        y_log_pred = model.predict(X_local_test)\n",
    "        y_pred = np.exp(y_log_pred)\n",
    "        score = rmsle(y_local_test,y_pred)\n",
    "        scores.append(score)\n",
    "    \n",
    "    return scores\n",
    "\n",
    "run_cv(X_train,y_train,xgb.XGBRegressor,{'max_depth':8, 'n_estimators': 100},cv=3)"
   ]
  },
  {
   "cell_type": "code",
   "execution_count": 167,
   "metadata": {},
   "outputs": [
    {
     "data": {
      "text/plain": [
       "{5: 0, 2: 1, 3: 2, 4: 3, 1: 4, 6: 5, 11: 6, 9: 7, 10: 8, 7: 9, 8: 10}"
      ]
     },
     "execution_count": 167,
     "metadata": {},
     "output_type": "execute_result"
    }
   ],
   "source": [
    "## create a dict labels assign to factorize ID\n",
    "\n",
    "df['typ_oferty_cat'], labels = df['typ_oferty'].factorize()\n",
    "dict_typ_oferty = {value: id_ for id_,value in enumerate(labels)}\n",
    "\n",
    "\n",
    "df['wojewodztwo_cat'], labels = df['wojewodztwo'].factorize()\n",
    "dict_wojewodztwo = {value: id_ for id_,value in enumerate(labels)}\n",
    "\n",
    "df['dostepne_od_cat'], labels = df['dostepne_od'].factorize()\n",
    "dict_dostep = {value: id_ for id_,value in enumerate(labels)}\n",
    "\n",
    "df['rodzaj_zabudowy_cat'], labels = df['rodzaj_zabudowy'].factorize()\n",
    "dict_zabudowa = {value: id_ for id_,value in enumerate(labels)}\n",
    "\n",
    "df['pietro_cat'], labels = df['pietro'].factorize()\n",
    "dict_pietro = {value: id_ for id_,value in enumerate(labels)}\n",
    "\n",
    "df['liczba_pokoi_cat'], labels = df['liczba_pokoi'].factorize()\n",
    "dict_pokoje = {value: id_ for id_,value in enumerate(labels)}\n",
    "\n",
    "df['miasto_cat'], labels = df['miasto'].factorize()\n",
    "dict_miasto = {value: id_ for id_,value in enumerate(labels)}\n",
    "dict_pokoje"
   ]
  },
  {
   "cell_type": "code",
   "execution_count": 162,
   "metadata": {},
   "outputs": [
    {
     "data": {
      "text/plain": [
       "XGBRegressor(base_score=0.5, booster=None, colsample_bylevel=1,\n",
       "             colsample_bynode=1, colsample_bytree=1, gamma=0, gpu_id=-1,\n",
       "             importance_type='gain', interaction_constraints=None,\n",
       "             learning_rate=0.300000012, max_delta_step=0, max_depth=10,\n",
       "             min_child_weight=1, missing=nan, monotone_constraints=None,\n",
       "             n_estimators=200, n_jobs=0, num_parallel_tree=1,\n",
       "             objective='reg:squarederror', random_state=0, reg_alpha=0,\n",
       "             reg_lambda=1, scale_pos_weight=1, seed=0, subsample=0.8,\n",
       "             tree_method=None, validate_parameters=False, verbosity=None)"
      ]
     },
     "execution_count": 162,
     "metadata": {},
     "output_type": "execute_result"
    }
   ],
   "source": [
    "best_feats = ['typ_oferty_cat','wojewodztwo_cat','dostepne_od_cat','rodzaj_zabudowy_cat','pietro_cat','liczba_pokoi_cat','miasto_cat']\n",
    "\n",
    "x_train = df[best_feats].iloc[:70487,].values\n",
    "x_test = df[best_feats].iloc[70487:,].values\n",
    "Y_train = df.loc[:70486,'cena'].values\n",
    "Y_log_train = np.log(Y_train)\n",
    "\n",
    "model = xgb.XGBRegressor( **xgb_params )\n",
    "model.fit(x_train,Y_log_train)\n"
   ]
  },
  {
   "cell_type": "code",
   "execution_count": null,
   "metadata": {},
   "outputs": [],
   "source": [
    "\n",
    "\n"
   ]
  },
  {
   "cell_type": "code",
   "execution_count": 179,
   "metadata": {},
   "outputs": [
    {
     "data": {
      "text/plain": [
       "array([[10,  2, 29,  0,  3,  2, 65]])"
      ]
     },
     "execution_count": 179,
     "metadata": {},
     "output_type": "execute_result"
    }
   ],
   "source": [
    "## Let's check if models work correctly \n",
    "typ_oferty_cat = 'Oferta dewelopera'\n",
    "wojewodztwo_cat = 'ŁD'\n",
    "dostepne_od_cat = ' 2020-06-30'\n",
    "rodzaj_zabudowy_cat = ' blok'\n",
    "pietro_cat = 3\n",
    "liczba_pokoi_cat = 2\n",
    "miasto_cat = 'Radomsko'\n",
    "\n",
    "xx = np.array([[dict_typ_oferty[typ_oferty_cat],\n",
    "                dict_wojewodztwo[wojewodztwo_cat],\n",
    "                dict_dostep[dostepne_od_cat],\n",
    "                dict_zabudowa[rodzaj_zabudowy_cat],\n",
    "                pietro_cat,\n",
    "                liczba_pokoi_cat,\n",
    "                dict_miasto[miasto_cat]\n",
    "    \n",
    "               ]])\n",
    "\n",
    "xx"
   ]
  },
  {
   "cell_type": "code",
   "execution_count": 186,
   "metadata": {},
   "outputs": [
    {
     "data": {
      "text/plain": [
       "array([12.417556], dtype=float32)"
      ]
     },
     "execution_count": 186,
     "metadata": {},
     "output_type": "execute_result"
    }
   ],
   "source": [
    "model.predict(xx) ## models return logarithm value \n",
    "\n"
   ]
  },
  {
   "cell_type": "code",
   "execution_count": 187,
   "metadata": {},
   "outputs": [
    {
     "data": {
      "text/plain": [
       "array([247101.83], dtype=float32)"
      ]
     },
     "execution_count": 187,
     "metadata": {},
     "output_type": "execute_result"
    }
   ],
   "source": [
    "np.exp(model.predict(xx))"
   ]
  },
  {
   "cell_type": "code",
   "execution_count": 188,
   "metadata": {},
   "outputs": [
    {
     "data": {
      "text/plain": [
       "['models.joblib.dat']"
      ]
     },
     "execution_count": 188,
     "metadata": {},
     "output_type": "execute_result"
    }
   ],
   "source": [
    "joblib.dump(model, \"models.joblib.dat\")"
   ]
  },
  {
   "cell_type": "code",
   "execution_count": 190,
   "metadata": {},
   "outputs": [
    {
     "data": {
      "text/plain": [
       "array([247101.83], dtype=float32)"
      ]
     },
     "execution_count": 190,
     "metadata": {},
     "output_type": "execute_result"
    }
   ],
   "source": [
    "## We have to pay about 247101.83 zł for a flat in Radomsko,\n",
    "#  located in 3th floor in the block with 2 rooms.\n",
    "\n",
    "check_models = joblib.load(\"models.joblib.dat\")\n",
    "\n",
    "np.exp(check_models.predict(xx))"
   ]
  },
  {
   "cell_type": "code",
   "execution_count": 201,
   "metadata": {},
   "outputs": [
    {
     "data": {
      "text/plain": [
       "array([[  2,   2,  29,   0,   3,   2, 340]])"
      ]
     },
     "execution_count": 201,
     "metadata": {},
     "output_type": "execute_result"
    }
   ],
   "source": [
    "typ_oferty_cat = 'Oferta dewelopera'\n",
    "wojewodztwo_cat = 'MZ'\n",
    "dostepne_od_cat = ' 2020-06-30'\n",
    "rodzaj_zabudowy_cat = ' blok'\n",
    "pietro_cat = 3\n",
    "liczba_pokoi_cat = 2\n",
    "miasto_cat = 'Warszawa'\n",
    "\n",
    "pp = np.array([[dict_typ_oferty[typ_oferty_cat],\n",
    "                dict_wojewodztwo[wojewodztwo_cat],\n",
    "                dict_dostep[dostepne_od_cat],\n",
    "                dict_zabudowa[rodzaj_zabudowy_cat],\n",
    "                pietro_cat,\n",
    "                liczba_pokoi_cat,\n",
    "                dict_miasto[miasto_cat]\n",
    "    \n",
    "               ]])\n",
    "\n",
    "\n",
    "\n",
    "pp"
   ]
  },
  {
   "cell_type": "code",
   "execution_count": 202,
   "metadata": {},
   "outputs": [
    {
     "data": {
      "text/plain": [
       "array([13.3486185], dtype=float32)"
      ]
     },
     "execution_count": 202,
     "metadata": {},
     "output_type": "execute_result"
    }
   ],
   "source": [
    "model.predict(pp)"
   ]
  },
  {
   "cell_type": "code",
   "execution_count": 203,
   "metadata": {},
   "outputs": [
    {
     "data": {
      "text/plain": [
       "array([626947.75], dtype=float32)"
      ]
     },
     "execution_count": 203,
     "metadata": {},
     "output_type": "execute_result"
    }
   ],
   "source": [
    "np.exp(model.predict(pp))"
   ]
  },
  {
   "cell_type": "code",
   "execution_count": null,
   "metadata": {},
   "outputs": [],
   "source": []
  },
  {
   "cell_type": "code",
   "execution_count": null,
   "metadata": {},
   "outputs": [],
   "source": []
  },
  {
   "cell_type": "code",
   "execution_count": null,
   "metadata": {},
   "outputs": [],
   "source": []
  }
 ],
 "metadata": {
  "kernelspec": {
   "display_name": "Python 3",
   "language": "python",
   "name": "python3"
  },
  "language_info": {
   "codemirror_mode": {
    "name": "ipython",
    "version": 3
   },
   "file_extension": ".py",
   "mimetype": "text/x-python",
   "name": "python",
   "nbconvert_exporter": "python",
   "pygments_lexer": "ipython3",
   "version": "3.7.4"
  }
 },
 "nbformat": 4,
 "nbformat_minor": 2
}
